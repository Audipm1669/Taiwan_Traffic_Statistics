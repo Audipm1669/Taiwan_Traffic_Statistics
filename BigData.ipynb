{
 "cells": [
  {
   "cell_type": "markdown",
   "metadata": {},
   "source": [
    "### Import Libraries"
   ]
  },
  {
   "cell_type": "code",
   "execution_count": 1,
   "metadata": {},
   "outputs": [],
   "source": [
    "import numpy as np\n",
    "import pandas as pd\n",
    "import matplotlib.pyplot as plt\n",
    "import seaborn as sns\n",
    "import os\n",
    "from imblearn.over_sampling import RandomOverSampler\n",
    "sns.set(style='whitegrid')\n",
    "from mpl_toolkits.mplot3d import Axes3D\n",
    "from sklearn.preprocessing import StandardScaler"
   ]
  },
  {
   "cell_type": "markdown",
   "metadata": {},
   "source": [
    "### Import Dataset"
   ]
  },
  {
   "cell_type": "markdown",
   "metadata": {},
   "source": [
    "各類車種通行量統計\n",
    "\n",
    "依車輛種類通過單一偵測站統計之交通量 \n",
    "\n",
    "TimeInterval：報表產製時間(每5分鐘統計)。 \n",
    "\n",
    "GantryID：測站編號，例如01F0005N即為[基隆-基隆端]。\n",
    "\n",
    "Direction：車行方向，S南、N北。\n",
    "\n",
    "VehicleType：車種 \n",
    "\n",
    "31小客車、32小貨車 \n",
    "41大客車、42大貨車 \n",
    "5聯結車 \n",
    "\n",
    "Counts：計算單一偵測站於此時階範圍內所經過之車流總量 "
   ]
  },
  {
   "cell_type": "code",
   "execution_count": 2,
   "metadata": {},
   "outputs": [],
   "source": [
    "data = pd.read_csv('output_2.csv', delimiter=',', nrows = 1000)\n",
    "data.dataframeName = 'output_2.csv'"
   ]
  },
  {
   "cell_type": "code",
   "execution_count": 3,
   "metadata": {},
   "outputs": [
    {
     "data": {
      "text/html": [
       "<div>\n",
       "<style scoped>\n",
       "    .dataframe tbody tr th:only-of-type {\n",
       "        vertical-align: middle;\n",
       "    }\n",
       "\n",
       "    .dataframe tbody tr th {\n",
       "        vertical-align: top;\n",
       "    }\n",
       "\n",
       "    .dataframe thead th {\n",
       "        text-align: right;\n",
       "    }\n",
       "</style>\n",
       "<table border=\"1\" class=\"dataframe\">\n",
       "  <thead>\n",
       "    <tr style=\"text-align: right;\">\n",
       "      <th></th>\n",
       "      <th>TimeInterval</th>\n",
       "      <th>GantryID</th>\n",
       "      <th>Direction</th>\n",
       "      <th>VehicleType</th>\n",
       "      <th>Counts</th>\n",
       "    </tr>\n",
       "  </thead>\n",
       "  <tbody>\n",
       "    <tr>\n",
       "      <td>0</td>\n",
       "      <td>2017-03-14 19:40:00</td>\n",
       "      <td>01F0005N</td>\n",
       "      <td>N</td>\n",
       "      <td>31</td>\n",
       "      <td>106</td>\n",
       "    </tr>\n",
       "    <tr>\n",
       "      <td>1</td>\n",
       "      <td>2017-03-14 19:40:00</td>\n",
       "      <td>01F0005N</td>\n",
       "      <td>N</td>\n",
       "      <td>32</td>\n",
       "      <td>16</td>\n",
       "    </tr>\n",
       "    <tr>\n",
       "      <td>2</td>\n",
       "      <td>2017-03-14 19:40:00</td>\n",
       "      <td>01F0005N</td>\n",
       "      <td>N</td>\n",
       "      <td>41</td>\n",
       "      <td>5</td>\n",
       "    </tr>\n",
       "    <tr>\n",
       "      <td>3</td>\n",
       "      <td>2017-03-14 19:40:00</td>\n",
       "      <td>01F0005N</td>\n",
       "      <td>N</td>\n",
       "      <td>42</td>\n",
       "      <td>2</td>\n",
       "    </tr>\n",
       "    <tr>\n",
       "      <td>4</td>\n",
       "      <td>2017-03-14 19:40:00</td>\n",
       "      <td>01F0005N</td>\n",
       "      <td>N</td>\n",
       "      <td>5</td>\n",
       "      <td>0</td>\n",
       "    </tr>\n",
       "    <tr>\n",
       "      <td>5</td>\n",
       "      <td>2017-03-14 19:40:00</td>\n",
       "      <td>01F0005S</td>\n",
       "      <td>S</td>\n",
       "      <td>31</td>\n",
       "      <td>73</td>\n",
       "    </tr>\n",
       "    <tr>\n",
       "      <td>6</td>\n",
       "      <td>2017-03-14 19:40:00</td>\n",
       "      <td>01F0005S</td>\n",
       "      <td>S</td>\n",
       "      <td>32</td>\n",
       "      <td>11</td>\n",
       "    </tr>\n",
       "    <tr>\n",
       "      <td>7</td>\n",
       "      <td>2017-03-14 19:40:00</td>\n",
       "      <td>01F0005S</td>\n",
       "      <td>S</td>\n",
       "      <td>41</td>\n",
       "      <td>9</td>\n",
       "    </tr>\n",
       "    <tr>\n",
       "      <td>8</td>\n",
       "      <td>2017-03-14 19:40:00</td>\n",
       "      <td>01F0005S</td>\n",
       "      <td>S</td>\n",
       "      <td>42</td>\n",
       "      <td>2</td>\n",
       "    </tr>\n",
       "    <tr>\n",
       "      <td>9</td>\n",
       "      <td>2017-03-14 19:40:00</td>\n",
       "      <td>01F0005S</td>\n",
       "      <td>S</td>\n",
       "      <td>5</td>\n",
       "      <td>1</td>\n",
       "    </tr>\n",
       "  </tbody>\n",
       "</table>\n",
       "</div>"
      ],
      "text/plain": [
       "          TimeInterval  GantryID Direction  VehicleType  Counts\n",
       "0  2017-03-14 19:40:00  01F0005N         N           31     106\n",
       "1  2017-03-14 19:40:00  01F0005N         N           32      16\n",
       "2  2017-03-14 19:40:00  01F0005N         N           41       5\n",
       "3  2017-03-14 19:40:00  01F0005N         N           42       2\n",
       "4  2017-03-14 19:40:00  01F0005N         N            5       0\n",
       "5  2017-03-14 19:40:00  01F0005S         S           31      73\n",
       "6  2017-03-14 19:40:00  01F0005S         S           32      11\n",
       "7  2017-03-14 19:40:00  01F0005S         S           41       9\n",
       "8  2017-03-14 19:40:00  01F0005S         S           42       2\n",
       "9  2017-03-14 19:40:00  01F0005S         S            5       1"
      ]
     },
     "execution_count": 3,
     "metadata": {},
     "output_type": "execute_result"
    }
   ],
   "source": [
    "data.head(10)"
   ]
  },
  {
   "cell_type": "markdown",
   "metadata": {},
   "source": [
    "### Function"
   ]
  },
  {
   "cell_type": "code",
   "execution_count": 4,
   "metadata": {},
   "outputs": [],
   "source": [
    "def plotPerColumnDistribution(df, nGraphShown, nGraphPerRow):\n",
    "    nunique = df.nunique()\n",
    "    df = df[[col for col in df if nunique[col] > 1 and nunique[col] < 50]]\n",
    "    nRow, nCol = df.shape\n",
    "    columnNames = list(df)\n",
    "    nGraphRow = (nCol + nGraphPerRow - 1) / nGraphPerRow\n",
    "    plt.figure(num = None, figsize = (6 * nGraphPerRow, 8 * nGraphRow), dpi = 80, facecolor = 'w', edgecolor = 'k')\n",
    "    for i in range(min(nCol, nGraphShown)):\n",
    "        plt.subplot(nGraphRow, nGraphPerRow, i + 1)\n",
    "        columnDf = df.iloc[:, i]\n",
    "        if (not np.issubdtype(type(columnDf.iloc[0]), np.number)):\n",
    "            valueCounts = columnDf.value_counts()\n",
    "            valueCounts.plot.bar()\n",
    "        else:\n",
    "            columnDf.hist()\n",
    "        plt.ylabel('counts')\n",
    "        plt.xticks(rotation = 90)\n",
    "        plt.title(f'{columnNames[i]} (column {i})')\n",
    "    plt.tight_layout(pad = 1.0, w_pad = 1.0, h_pad = 1.0)\n",
    "    plt.show()"
   ]
  },
  {
   "cell_type": "code",
   "execution_count": 5,
   "metadata": {},
   "outputs": [],
   "source": [
    "def plotCorrelationMatrix(df, graphWidth):\n",
    "    filename = df.dataframeName\n",
    "    df = df.dropna('columns') \n",
    "    df = df[[col for col in df if df[col].nunique() > 1]]\n",
    "    if df.shape[1] < 2:\n",
    "        print(f'No correlation plots shown: The number of non-NaN or constant columns ({df.shape[1]}) is less than 2')\n",
    "        return\n",
    "    corr = df.corr()\n",
    "    plt.figure(num=None, figsize=(graphWidth, graphWidth), dpi=80, facecolor='w', edgecolor='k')\n",
    "    corrMat = plt.matshow(corr, fignum = 1)\n",
    "    plt.xticks(range(len(corr.columns)), corr.columns, rotation=90)\n",
    "    plt.yticks(range(len(corr.columns)), corr.columns)\n",
    "    plt.gca().xaxis.tick_bottom()\n",
    "    plt.colorbar(corrMat)\n",
    "    plt.title(f'Correlation Matrix for {filename}', fontsize=15)\n",
    "    plt.show()"
   ]
  },
  {
   "cell_type": "code",
   "execution_count": 6,
   "metadata": {},
   "outputs": [],
   "source": [
    "def plotScatterMatrix(df, plotSize, textSize):\n",
    "    df = df.select_dtypes(include =[np.number]) \n",
    "    df = df.dropna('columns')\n",
    "    df = df[[col for col in df if df[col].nunique() > 1]] \n",
    "    columnNames = list(df)\n",
    "    if len(columnNames) > 10: \n",
    "        columnNames = columnNames[:10]\n",
    "    df = df[columnNames]\n",
    "    ax = pd.plotting.scatter_matrix(df, alpha=0.75, figsize=[plotSize, plotSize], diagonal='kde')\n",
    "    corrs = df.corr().values\n",
    "    for i, j in zip(*plt.np.triu_indices_from(ax, k = 1)):\n",
    "        ax[i, j].annotate('Corr. coef = %.3f' % corrs[i, j], (0.8, 0.2), xycoords='axes fraction', ha='center', va='center', size=textSize)\n",
    "    plt.suptitle('Scatter and Density Plot')\n",
    "    plt.show()"
   ]
  },
  {
   "cell_type": "markdown",
   "metadata": {},
   "source": [
    "### Exploratory Data Analysis of first 1000 data"
   ]
  },
  {
   "cell_type": "code",
   "execution_count": 7,
   "metadata": {},
   "outputs": [],
   "source": [
    "numerical_columns = ['VehicleType','Counts']\n",
    "categorical_columns = ['TimeInterval', 'GantryID', 'Direction']"
   ]
  },
  {
   "cell_type": "code",
   "execution_count": 8,
   "metadata": {},
   "outputs": [
    {
     "data": {
      "text/html": [
       "<div>\n",
       "<style scoped>\n",
       "    .dataframe tbody tr th:only-of-type {\n",
       "        vertical-align: middle;\n",
       "    }\n",
       "\n",
       "    .dataframe tbody tr th {\n",
       "        vertical-align: top;\n",
       "    }\n",
       "\n",
       "    .dataframe thead th {\n",
       "        text-align: right;\n",
       "    }\n",
       "</style>\n",
       "<table border=\"1\" class=\"dataframe\">\n",
       "  <thead>\n",
       "    <tr style=\"text-align: right;\">\n",
       "      <th></th>\n",
       "      <th>VehicleType</th>\n",
       "      <th>Counts</th>\n",
       "    </tr>\n",
       "  </thead>\n",
       "  <tbody>\n",
       "    <tr>\n",
       "      <td>count</td>\n",
       "      <td>1000.000000</td>\n",
       "      <td>1000.000000</td>\n",
       "    </tr>\n",
       "    <tr>\n",
       "      <td>mean</td>\n",
       "      <td>30.200000</td>\n",
       "      <td>42.137000</td>\n",
       "    </tr>\n",
       "    <tr>\n",
       "      <td>std</td>\n",
       "      <td>13.384287</td>\n",
       "      <td>66.604703</td>\n",
       "    </tr>\n",
       "    <tr>\n",
       "      <td>min</td>\n",
       "      <td>5.000000</td>\n",
       "      <td>0.000000</td>\n",
       "    </tr>\n",
       "    <tr>\n",
       "      <td>25%</td>\n",
       "      <td>31.000000</td>\n",
       "      <td>5.000000</td>\n",
       "    </tr>\n",
       "    <tr>\n",
       "      <td>50%</td>\n",
       "      <td>32.000000</td>\n",
       "      <td>12.000000</td>\n",
       "    </tr>\n",
       "    <tr>\n",
       "      <td>75%</td>\n",
       "      <td>41.000000</td>\n",
       "      <td>45.000000</td>\n",
       "    </tr>\n",
       "    <tr>\n",
       "      <td>max</td>\n",
       "      <td>42.000000</td>\n",
       "      <td>445.000000</td>\n",
       "    </tr>\n",
       "  </tbody>\n",
       "</table>\n",
       "</div>"
      ],
      "text/plain": [
       "       VehicleType       Counts\n",
       "count  1000.000000  1000.000000\n",
       "mean     30.200000    42.137000\n",
       "std      13.384287    66.604703\n",
       "min       5.000000     0.000000\n",
       "25%      31.000000     5.000000\n",
       "50%      32.000000    12.000000\n",
       "75%      41.000000    45.000000\n",
       "max      42.000000   445.000000"
      ]
     },
     "execution_count": 8,
     "metadata": {},
     "output_type": "execute_result"
    }
   ],
   "source": [
    "data[numerical_columns].describe()"
   ]
  },
  {
   "cell_type": "markdown",
   "metadata": {},
   "source": [
    "### Distribution graphs (TimeInterval: 2017-03-14 19:40:00) of 1000 data"
   ]
  },
  {
   "cell_type": "code",
   "execution_count": 9,
   "metadata": {
    "scrolled": false
   },
   "outputs": [
    {
     "data": {
      "image/png": "[encoded data removed]",
      "text/plain": [
       "<Figure size 2400x768 with 2 Axes>"
      ]
     },
     "metadata": {},
     "output_type": "display_data"
    }
   ],
   "source": [
    "plotPerColumnDistribution(data, 10, 5)"
   ]
  },
  {
   "cell_type": "markdown",
   "metadata": {},
   "source": [
    "### Correlation matrix (TimeInterval: 2017-03-14 19:40:00) of 1000 data"
   ]
  },
  {
   "cell_type": "code",
   "execution_count": 10,
   "metadata": {
    "scrolled": false
   },
   "outputs": [
    {
     "data": {
      "image/png": "[encoded data removed]",
      "text/plain": [
       "<Figure size 640x640 with 2 Axes>"
      ]
     },
     "metadata": {},
     "output_type": "display_data"
    }
   ],
   "source": [
    "plotCorrelationMatrix(data, 8)"
   ]
  },
  {
   "cell_type": "markdown",
   "metadata": {},
   "source": [
    "### Scatter and density plots (TimeInterval: 2017-03-14 19:40:00) of 1000 data"
   ]
  },
  {
   "cell_type": "code",
   "execution_count": 11,
   "metadata": {},
   "outputs": [
    {
     "data": {
      "image/png": "[encoded data removed]",
      "text/plain": [
       "<Figure size 432x432 with 4 Axes>"
      ]
     },
     "metadata": {
      "needs_background": "light"
     },
     "output_type": "display_data"
    }
   ],
   "source": [
    "plotScatterMatrix(data, 6, 15)"
   ]
  },
  {
   "cell_type": "markdown",
   "metadata": {},
   "source": [
    "### Filter the data by TimeInterval, GantryID, and Counts"
   ]
  },
  {
   "cell_type": "code",
   "execution_count": 12,
   "metadata": {},
   "outputs": [
    {
     "data": {
      "text/html": [
       "<div>\n",
       "<style scoped>\n",
       "    .dataframe tbody tr th:only-of-type {\n",
       "        vertical-align: middle;\n",
       "    }\n",
       "\n",
       "    .dataframe tbody tr th {\n",
       "        vertical-align: top;\n",
       "    }\n",
       "\n",
       "    .dataframe thead th {\n",
       "        text-align: right;\n",
       "    }\n",
       "</style>\n",
       "<table border=\"1\" class=\"dataframe\">\n",
       "  <thead>\n",
       "    <tr style=\"text-align: right;\">\n",
       "      <th></th>\n",
       "      <th>TimeInterval</th>\n",
       "      <th>GantryID</th>\n",
       "      <th>Counts</th>\n",
       "    </tr>\n",
       "  </thead>\n",
       "  <tbody>\n",
       "    <tr>\n",
       "      <td>0</td>\n",
       "      <td>2017-02-17 00:00:00</td>\n",
       "      <td>01F0005N</td>\n",
       "      <td>41</td>\n",
       "    </tr>\n",
       "    <tr>\n",
       "      <td>1</td>\n",
       "      <td>2017-02-17 00:00:00</td>\n",
       "      <td>01F0005S</td>\n",
       "      <td>30</td>\n",
       "    </tr>\n",
       "    <tr>\n",
       "      <td>2</td>\n",
       "      <td>2017-02-17 00:00:00</td>\n",
       "      <td>01F0017N</td>\n",
       "      <td>36</td>\n",
       "    </tr>\n",
       "    <tr>\n",
       "      <td>3</td>\n",
       "      <td>2017-02-17 00:00:00</td>\n",
       "      <td>01F0017S</td>\n",
       "      <td>28</td>\n",
       "    </tr>\n",
       "    <tr>\n",
       "      <td>4</td>\n",
       "      <td>2017-02-17 00:00:00</td>\n",
       "      <td>01F0029N</td>\n",
       "      <td>58</td>\n",
       "    </tr>\n",
       "    <tr>\n",
       "      <td>...</td>\n",
       "      <td>...</td>\n",
       "      <td>...</td>\n",
       "      <td>...</td>\n",
       "    </tr>\n",
       "    <tr>\n",
       "      <td>4705915</td>\n",
       "      <td>2017-03-31 23:55:00</td>\n",
       "      <td>10G0139W</td>\n",
       "      <td>27</td>\n",
       "    </tr>\n",
       "    <tr>\n",
       "      <td>4705916</td>\n",
       "      <td>2017-03-31 23:55:00</td>\n",
       "      <td>10G0184E</td>\n",
       "      <td>40</td>\n",
       "    </tr>\n",
       "    <tr>\n",
       "      <td>4705917</td>\n",
       "      <td>2017-03-31 23:55:00</td>\n",
       "      <td>10G0216E</td>\n",
       "      <td>27</td>\n",
       "    </tr>\n",
       "    <tr>\n",
       "      <td>4705918</td>\n",
       "      <td>2017-03-31 23:55:00</td>\n",
       "      <td>10G0216W</td>\n",
       "      <td>5</td>\n",
       "    </tr>\n",
       "    <tr>\n",
       "      <td>4705919</td>\n",
       "      <td>2017-03-31 23:55:00</td>\n",
       "      <td>10G0261W</td>\n",
       "      <td>5</td>\n",
       "    </tr>\n",
       "  </tbody>\n",
       "</table>\n",
       "<p>4705920 rows × 3 columns</p>\n",
       "</div>"
      ],
      "text/plain": [
       "                TimeInterval  GantryID  Counts\n",
       "0        2017-02-17 00:00:00  01F0005N      41\n",
       "1        2017-02-17 00:00:00  01F0005S      30\n",
       "2        2017-02-17 00:00:00  01F0017N      36\n",
       "3        2017-02-17 00:00:00  01F0017S      28\n",
       "4        2017-02-17 00:00:00  01F0029N      58\n",
       "...                      ...       ...     ...\n",
       "4705915  2017-03-31 23:55:00  10G0139W      27\n",
       "4705916  2017-03-31 23:55:00  10G0184E      40\n",
       "4705917  2017-03-31 23:55:00  10G0216E      27\n",
       "4705918  2017-03-31 23:55:00  10G0216W       5\n",
       "4705919  2017-03-31 23:55:00  10G0261W       5\n",
       "\n",
       "[4705920 rows x 3 columns]"
      ]
     },
     "execution_count": 12,
     "metadata": {},
     "output_type": "execute_result"
    }
   ],
   "source": [
    "df = pd.read_csv('output_2.csv', delimiter=',')\n",
    "df = df.groupby(['TimeInterval','GantryID'])['Counts'].sum().to_frame().reset_index()\n",
    "df"
   ]
  },
  {
   "cell_type": "markdown",
   "metadata": {},
   "source": [
    "### Exploratory Data Analysis of \"Counts\" data"
   ]
  },
  {
   "cell_type": "code",
   "execution_count": 13,
   "metadata": {},
   "outputs": [
    {
     "data": {
      "text/plain": [
       "count    4.705920e+06\n",
       "mean     1.595319e+02\n",
       "std      1.369250e+02\n",
       "min      0.000000e+00\n",
       "25%      4.700000e+01\n",
       "50%      1.210000e+02\n",
       "75%      2.440000e+02\n",
       "max      1.008000e+03\n",
       "Name: Counts, dtype: float64"
      ]
     },
     "execution_count": 13,
     "metadata": {},
     "output_type": "execute_result"
    }
   ],
   "source": [
    "df['Counts'].describe()"
   ]
  },
  {
   "cell_type": "markdown",
   "metadata": {},
   "source": [
    "### Sort the data and show the biggest 5 in which \"GantryID\" and \"TimeInterval\""
   ]
  },
  {
   "cell_type": "code",
   "execution_count": 14,
   "metadata": {},
   "outputs": [
    {
     "data": {
      "text/plain": [
       "<seaborn.axisgrid.FacetGrid at 0x1e58c372048>"
      ]
     },
     "execution_count": 14,
     "metadata": {},
     "output_type": "execute_result"
    },
    {
     "data": {
      "image/png": "[encoded data removed]",
      "text/plain": [
       "<Figure size 455.475x360 with 1 Axes>"
      ]
     },
     "metadata": {
      "needs_background": "light"
     },
     "output_type": "display_data"
    }
   ],
   "source": [
    "g = sns.catplot(x=\"TimeInterval\", y=\"Counts\", hue=\"GantryID\", data=df.sort_values(by='Counts', ascending=False).head(5), kind=\"bar\")\n",
    "g.set_xticklabels(rotation=90)"
   ]
  },
  {
   "cell_type": "markdown",
   "metadata": {},
   "source": [
    "### Select the data by 'GantryID' and 'TimeInterval' that we want"
   ]
  },
  {
   "cell_type": "code",
   "execution_count": 15,
   "metadata": {},
   "outputs": [
    {
     "data": {
      "text/html": [
       "<div>\n",
       "<style scoped>\n",
       "    .dataframe tbody tr th:only-of-type {\n",
       "        vertical-align: middle;\n",
       "    }\n",
       "\n",
       "    .dataframe tbody tr th {\n",
       "        vertical-align: top;\n",
       "    }\n",
       "\n",
       "    .dataframe thead th {\n",
       "        text-align: right;\n",
       "    }\n",
       "</style>\n",
       "<table border=\"1\" class=\"dataframe\">\n",
       "  <thead>\n",
       "    <tr style=\"text-align: right;\">\n",
       "      <th></th>\n",
       "      <th>TimeInterval</th>\n",
       "      <th>GantryID</th>\n",
       "      <th>Counts</th>\n",
       "    </tr>\n",
       "  </thead>\n",
       "  <tbody>\n",
       "    <tr>\n",
       "      <td>4704024</td>\n",
       "      <td>2017-03-31 23:35:00</td>\n",
       "      <td>01F0029N</td>\n",
       "      <td>129</td>\n",
       "    </tr>\n",
       "    <tr>\n",
       "      <td>4704404</td>\n",
       "      <td>2017-03-31 23:40:00</td>\n",
       "      <td>01F0029N</td>\n",
       "      <td>75</td>\n",
       "    </tr>\n",
       "    <tr>\n",
       "      <td>4704784</td>\n",
       "      <td>2017-03-31 23:45:00</td>\n",
       "      <td>01F0029N</td>\n",
       "      <td>97</td>\n",
       "    </tr>\n",
       "    <tr>\n",
       "      <td>4705164</td>\n",
       "      <td>2017-03-31 23:50:00</td>\n",
       "      <td>01F0029N</td>\n",
       "      <td>90</td>\n",
       "    </tr>\n",
       "    <tr>\n",
       "      <td>4705544</td>\n",
       "      <td>2017-03-31 23:55:00</td>\n",
       "      <td>01F0029N</td>\n",
       "      <td>98</td>\n",
       "    </tr>\n",
       "  </tbody>\n",
       "</table>\n",
       "</div>"
      ],
      "text/plain": [
       "                TimeInterval  GantryID  Counts\n",
       "4704024  2017-03-31 23:35:00  01F0029N     129\n",
       "4704404  2017-03-31 23:40:00  01F0029N      75\n",
       "4704784  2017-03-31 23:45:00  01F0029N      97\n",
       "4705164  2017-03-31 23:50:00  01F0029N      90\n",
       "4705544  2017-03-31 23:55:00  01F0029N      98"
      ]
     },
     "execution_count": 15,
     "metadata": {},
     "output_type": "execute_result"
    }
   ],
   "source": [
    "df1 = df.loc[(df['TimeInterval'] > '2017-03-31 23:30:00' ) & (df['TimeInterval'] <= '2017-03-31 23:55:00') & (df['GantryID'] == '01F0029N')]\n",
    "df1"
   ]
  },
  {
   "cell_type": "markdown",
   "metadata": {},
   "source": [
    "### Filter the data by \"TimeInterval\"  between 1 hour"
   ]
  },
  {
   "cell_type": "code",
   "execution_count": 16,
   "metadata": {},
   "outputs": [
    {
     "data": {
      "text/html": [
       "<div>\n",
       "<style scoped>\n",
       "    .dataframe tbody tr th:only-of-type {\n",
       "        vertical-align: middle;\n",
       "    }\n",
       "\n",
       "    .dataframe tbody tr th {\n",
       "        vertical-align: top;\n",
       "    }\n",
       "\n",
       "    .dataframe thead th {\n",
       "        text-align: right;\n",
       "    }\n",
       "</style>\n",
       "<table border=\"1\" class=\"dataframe\">\n",
       "  <thead>\n",
       "    <tr style=\"text-align: right;\">\n",
       "      <th></th>\n",
       "      <th>TimeInterval</th>\n",
       "      <th>GantryID</th>\n",
       "      <th>Counts</th>\n",
       "    </tr>\n",
       "  </thead>\n",
       "  <tbody>\n",
       "    <tr>\n",
       "      <td>0</td>\n",
       "      <td>2017-02-17 00:00:00</td>\n",
       "      <td>01F0005N</td>\n",
       "      <td>465</td>\n",
       "    </tr>\n",
       "    <tr>\n",
       "      <td>1</td>\n",
       "      <td>2017-02-17 00:00:00</td>\n",
       "      <td>01F0005S</td>\n",
       "      <td>387</td>\n",
       "    </tr>\n",
       "    <tr>\n",
       "      <td>2</td>\n",
       "      <td>2017-02-17 00:00:00</td>\n",
       "      <td>01F0017N</td>\n",
       "      <td>492</td>\n",
       "    </tr>\n",
       "    <tr>\n",
       "      <td>3</td>\n",
       "      <td>2017-02-17 00:00:00</td>\n",
       "      <td>01F0017S</td>\n",
       "      <td>369</td>\n",
       "    </tr>\n",
       "    <tr>\n",
       "      <td>4</td>\n",
       "      <td>2017-02-17 00:00:00</td>\n",
       "      <td>01F0029N</td>\n",
       "      <td>672</td>\n",
       "    </tr>\n",
       "    <tr>\n",
       "      <td>...</td>\n",
       "      <td>...</td>\n",
       "      <td>...</td>\n",
       "      <td>...</td>\n",
       "    </tr>\n",
       "    <tr>\n",
       "      <td>392155</td>\n",
       "      <td>2017-03-31 23:00:00</td>\n",
       "      <td>10G0139W</td>\n",
       "      <td>474</td>\n",
       "    </tr>\n",
       "    <tr>\n",
       "      <td>392156</td>\n",
       "      <td>2017-03-31 23:00:00</td>\n",
       "      <td>10G0184E</td>\n",
       "      <td>521</td>\n",
       "    </tr>\n",
       "    <tr>\n",
       "      <td>392157</td>\n",
       "      <td>2017-03-31 23:00:00</td>\n",
       "      <td>10G0216E</td>\n",
       "      <td>313</td>\n",
       "    </tr>\n",
       "    <tr>\n",
       "      <td>392158</td>\n",
       "      <td>2017-03-31 23:00:00</td>\n",
       "      <td>10G0216W</td>\n",
       "      <td>191</td>\n",
       "    </tr>\n",
       "    <tr>\n",
       "      <td>392159</td>\n",
       "      <td>2017-03-31 23:00:00</td>\n",
       "      <td>10G0261W</td>\n",
       "      <td>94</td>\n",
       "    </tr>\n",
       "  </tbody>\n",
       "</table>\n",
       "<p>392160 rows × 3 columns</p>\n",
       "</div>"
      ],
      "text/plain": [
       "              TimeInterval  GantryID  Counts\n",
       "0      2017-02-17 00:00:00  01F0005N     465\n",
       "1      2017-02-17 00:00:00  01F0005S     387\n",
       "2      2017-02-17 00:00:00  01F0017N     492\n",
       "3      2017-02-17 00:00:00  01F0017S     369\n",
       "4      2017-02-17 00:00:00  01F0029N     672\n",
       "...                    ...       ...     ...\n",
       "392155 2017-03-31 23:00:00  10G0139W     474\n",
       "392156 2017-03-31 23:00:00  10G0184E     521\n",
       "392157 2017-03-31 23:00:00  10G0216E     313\n",
       "392158 2017-03-31 23:00:00  10G0216W     191\n",
       "392159 2017-03-31 23:00:00  10G0261W      94\n",
       "\n",
       "[392160 rows x 3 columns]"
      ]
     },
     "execution_count": 16,
     "metadata": {},
     "output_type": "execute_result"
    }
   ],
   "source": [
    "df['TimeInterval'] = pd.to_datetime(df.TimeInterval)\n",
    "df2 = df.groupby([pd.Grouper(key='TimeInterval', freq='H'), 'GantryID'])['Counts'].sum().to_frame().reset_index()\n",
    "df2"
   ]
  },
  {
   "cell_type": "markdown",
   "metadata": {},
   "source": [
    "### Filter the data by GantryID and selected Time"
   ]
  },
  {
   "cell_type": "code",
   "execution_count": 17,
   "metadata": {},
   "outputs": [
    {
     "data": {
      "text/html": [
       "<div>\n",
       "<style scoped>\n",
       "    .dataframe tbody tr th:only-of-type {\n",
       "        vertical-align: middle;\n",
       "    }\n",
       "\n",
       "    .dataframe tbody tr th {\n",
       "        vertical-align: top;\n",
       "    }\n",
       "\n",
       "    .dataframe thead th {\n",
       "        text-align: right;\n",
       "    }\n",
       "</style>\n",
       "<table border=\"1\" class=\"dataframe\">\n",
       "  <thead>\n",
       "    <tr style=\"text-align: right;\">\n",
       "      <th></th>\n",
       "      <th>TimeInterval</th>\n",
       "      <th>GantryID</th>\n",
       "      <th>Counts</th>\n",
       "    </tr>\n",
       "  </thead>\n",
       "  <tbody>\n",
       "    <tr>\n",
       "      <td>319204</td>\n",
       "      <td>2017-03-24 00:00:00</td>\n",
       "      <td>01F0029N</td>\n",
       "      <td>615</td>\n",
       "    </tr>\n",
       "    <tr>\n",
       "      <td>319584</td>\n",
       "      <td>2017-03-24 01:00:00</td>\n",
       "      <td>01F0029N</td>\n",
       "      <td>513</td>\n",
       "    </tr>\n",
       "    <tr>\n",
       "      <td>319964</td>\n",
       "      <td>2017-03-24 02:00:00</td>\n",
       "      <td>01F0029N</td>\n",
       "      <td>472</td>\n",
       "    </tr>\n",
       "    <tr>\n",
       "      <td>320344</td>\n",
       "      <td>2017-03-24 03:00:00</td>\n",
       "      <td>01F0029N</td>\n",
       "      <td>493</td>\n",
       "    </tr>\n",
       "    <tr>\n",
       "      <td>320724</td>\n",
       "      <td>2017-03-24 04:00:00</td>\n",
       "      <td>01F0029N</td>\n",
       "      <td>416</td>\n",
       "    </tr>\n",
       "    <tr>\n",
       "      <td>321104</td>\n",
       "      <td>2017-03-24 05:00:00</td>\n",
       "      <td>01F0029N</td>\n",
       "      <td>376</td>\n",
       "    </tr>\n",
       "    <tr>\n",
       "      <td>321484</td>\n",
       "      <td>2017-03-24 06:00:00</td>\n",
       "      <td>01F0029N</td>\n",
       "      <td>723</td>\n",
       "    </tr>\n",
       "    <tr>\n",
       "      <td>321864</td>\n",
       "      <td>2017-03-24 07:00:00</td>\n",
       "      <td>01F0029N</td>\n",
       "      <td>1672</td>\n",
       "    </tr>\n",
       "    <tr>\n",
       "      <td>322244</td>\n",
       "      <td>2017-03-24 08:00:00</td>\n",
       "      <td>01F0029N</td>\n",
       "      <td>1632</td>\n",
       "    </tr>\n",
       "    <tr>\n",
       "      <td>322624</td>\n",
       "      <td>2017-03-24 09:00:00</td>\n",
       "      <td>01F0029N</td>\n",
       "      <td>1744</td>\n",
       "    </tr>\n",
       "    <tr>\n",
       "      <td>323004</td>\n",
       "      <td>2017-03-24 10:00:00</td>\n",
       "      <td>01F0029N</td>\n",
       "      <td>1825</td>\n",
       "    </tr>\n",
       "    <tr>\n",
       "      <td>323384</td>\n",
       "      <td>2017-03-24 11:00:00</td>\n",
       "      <td>01F0029N</td>\n",
       "      <td>1877</td>\n",
       "    </tr>\n",
       "    <tr>\n",
       "      <td>323764</td>\n",
       "      <td>2017-03-24 12:00:00</td>\n",
       "      <td>01F0029N</td>\n",
       "      <td>1698</td>\n",
       "    </tr>\n",
       "    <tr>\n",
       "      <td>324144</td>\n",
       "      <td>2017-03-24 13:00:00</td>\n",
       "      <td>01F0029N</td>\n",
       "      <td>1713</td>\n",
       "    </tr>\n",
       "    <tr>\n",
       "      <td>324524</td>\n",
       "      <td>2017-03-24 14:00:00</td>\n",
       "      <td>01F0029N</td>\n",
       "      <td>1795</td>\n",
       "    </tr>\n",
       "    <tr>\n",
       "      <td>324904</td>\n",
       "      <td>2017-03-24 15:00:00</td>\n",
       "      <td>01F0029N</td>\n",
       "      <td>1891</td>\n",
       "    </tr>\n",
       "    <tr>\n",
       "      <td>325284</td>\n",
       "      <td>2017-03-24 16:00:00</td>\n",
       "      <td>01F0029N</td>\n",
       "      <td>2020</td>\n",
       "    </tr>\n",
       "    <tr>\n",
       "      <td>325664</td>\n",
       "      <td>2017-03-24 17:00:00</td>\n",
       "      <td>01F0029N</td>\n",
       "      <td>2616</td>\n",
       "    </tr>\n",
       "    <tr>\n",
       "      <td>326044</td>\n",
       "      <td>2017-03-24 18:00:00</td>\n",
       "      <td>01F0029N</td>\n",
       "      <td>2891</td>\n",
       "    </tr>\n",
       "    <tr>\n",
       "      <td>326424</td>\n",
       "      <td>2017-03-24 19:00:00</td>\n",
       "      <td>01F0029N</td>\n",
       "      <td>2685</td>\n",
       "    </tr>\n",
       "    <tr>\n",
       "      <td>326804</td>\n",
       "      <td>2017-03-24 20:00:00</td>\n",
       "      <td>01F0029N</td>\n",
       "      <td>2138</td>\n",
       "    </tr>\n",
       "    <tr>\n",
       "      <td>327184</td>\n",
       "      <td>2017-03-24 21:00:00</td>\n",
       "      <td>01F0029N</td>\n",
       "      <td>2104</td>\n",
       "    </tr>\n",
       "    <tr>\n",
       "      <td>327564</td>\n",
       "      <td>2017-03-24 22:00:00</td>\n",
       "      <td>01F0029N</td>\n",
       "      <td>1982</td>\n",
       "    </tr>\n",
       "    <tr>\n",
       "      <td>327944</td>\n",
       "      <td>2017-03-24 23:00:00</td>\n",
       "      <td>01F0029N</td>\n",
       "      <td>1323</td>\n",
       "    </tr>\n",
       "    <tr>\n",
       "      <td>328324</td>\n",
       "      <td>2017-03-25 00:00:00</td>\n",
       "      <td>01F0029N</td>\n",
       "      <td>975</td>\n",
       "    </tr>\n",
       "  </tbody>\n",
       "</table>\n",
       "</div>"
      ],
      "text/plain": [
       "              TimeInterval  GantryID  Counts\n",
       "319204 2017-03-24 00:00:00  01F0029N     615\n",
       "319584 2017-03-24 01:00:00  01F0029N     513\n",
       "319964 2017-03-24 02:00:00  01F0029N     472\n",
       "320344 2017-03-24 03:00:00  01F0029N     493\n",
       "320724 2017-03-24 04:00:00  01F0029N     416\n",
       "321104 2017-03-24 05:00:00  01F0029N     376\n",
       "321484 2017-03-24 06:00:00  01F0029N     723\n",
       "321864 2017-03-24 07:00:00  01F0029N    1672\n",
       "322244 2017-03-24 08:00:00  01F0029N    1632\n",
       "322624 2017-03-24 09:00:00  01F0029N    1744\n",
       "323004 2017-03-24 10:00:00  01F0029N    1825\n",
       "323384 2017-03-24 11:00:00  01F0029N    1877\n",
       "323764 2017-03-24 12:00:00  01F0029N    1698\n",
       "324144 2017-03-24 13:00:00  01F0029N    1713\n",
       "324524 2017-03-24 14:00:00  01F0029N    1795\n",
       "324904 2017-03-24 15:00:00  01F0029N    1891\n",
       "325284 2017-03-24 16:00:00  01F0029N    2020\n",
       "325664 2017-03-24 17:00:00  01F0029N    2616\n",
       "326044 2017-03-24 18:00:00  01F0029N    2891\n",
       "326424 2017-03-24 19:00:00  01F0029N    2685\n",
       "326804 2017-03-24 20:00:00  01F0029N    2138\n",
       "327184 2017-03-24 21:00:00  01F0029N    2104\n",
       "327564 2017-03-24 22:00:00  01F0029N    1982\n",
       "327944 2017-03-24 23:00:00  01F0029N    1323\n",
       "328324 2017-03-25 00:00:00  01F0029N     975"
      ]
     },
     "execution_count": 17,
     "metadata": {},
     "output_type": "execute_result"
    }
   ],
   "source": [
    "df2 = df2.loc[(df2['GantryID'] == '01F0029N') & (df2['TimeInterval'] >= '2017-03-24 00:00:00') & (df2['TimeInterval'] <= '2017-03-25 00:00:00') ]\n",
    "df2['TimeInterval'] = df2.TimeInterval.dt.strftime('%Y-%m-%d %H:%M:%S')\n",
    "df2"
   ]
  },
  {
   "cell_type": "markdown",
   "metadata": {},
   "source": [
    "### Show the plot of filtered data"
   ]
  },
  {
   "cell_type": "code",
   "execution_count": 18,
   "metadata": {},
   "outputs": [
    {
     "name": "stderr",
     "output_type": "stream",
     "text": [
      "C:\\Users\\aushi\\Anaconda3\\lib\\site-packages\\ipykernel_launcher.py:1: SettingWithCopyWarning: \n",
      "A value is trying to be set on a copy of a slice from a DataFrame.\n",
      "Try using .loc[row_indexer,col_indexer] = value instead\n",
      "\n",
      "See the caveats in the documentation: http://pandas.pydata.org/pandas-docs/stable/user_guide/indexing.html#returning-a-view-versus-a-copy\n",
      "  \"\"\"Entry point for launching an IPython kernel.\n"
     ]
    },
    {
     "data": {
      "text/plain": [
       "<seaborn.axisgrid.FacetGrid at 0x1e58ee4f2c8>"
      ]
     },
     "execution_count": 18,
     "metadata": {},
     "output_type": "execute_result"
    },
    {
     "data": {
      "image/png": "[encoded data removed]",
      "text/plain": [
       "<Figure size 451.1x360 with 1 Axes>"
      ]
     },
     "metadata": {
      "needs_background": "light"
     },
     "output_type": "display_data"
    }
   ],
   "source": [
    "g2 = sns.catplot(x=\"TimeInterval\", y=\"Counts\", hue=\"GantryID\", data=df2, kind=\"point\")\n",
    "g2.set_xticklabels(rotation=90)"
   ]
  }
 ],
 "metadata": {
  "kernelspec": {
   "display_name": "Python 3",
   "language": "python",
   "name": "python3"
  },
  "language_info": {
   "codemirror_mode": {
    "name": "ipython",
    "version": 3
   },
   "file_extension": ".py",
   "mimetype": "text/x-python",
   "name": "python",
   "nbconvert_exporter": "python",
   "pygments_lexer": "ipython3",
   "version": "3.8.5"
  }
 },
 "nbformat": 4,
 "nbformat_minor": 2
}
